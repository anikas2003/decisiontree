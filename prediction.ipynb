{
 "cells": [
  {
   "cell_type": "code",
   "execution_count": 54,
   "metadata": {},
   "outputs": [],
   "source": [
    "import pandas as pd\n",
    "from sklearn.model_selection import train_test_split \n",
    "from sklearn.tree import DecisionTreeClassifier \n",
    "from sklearn.metrics import accuracy_score\n",
    "from sklearn.ensemble import RandomForestClassifier"
   ]
  },
  {
   "cell_type": "code",
   "execution_count": 35,
   "metadata": {},
   "outputs": [
    {
     "name": "stdout",
     "output_type": "stream",
     "text": [
      "     class  alcohol  malic_acid   ash  alcalinity_of_ash  magnesium  \\\n",
      "0        1    13.20        1.78  2.14               11.2        100   \n",
      "1        1    13.16        2.36  2.67               18.6        101   \n",
      "2        1    14.37        1.95  2.50               16.8        113   \n",
      "3        1    13.24        2.59  2.87               21.0        118   \n",
      "4        1    14.20        1.76  2.45               15.2        112   \n",
      "..     ...      ...         ...   ...                ...        ...   \n",
      "172      3    13.71        5.65  2.45               20.5         95   \n",
      "173      3    13.40        3.91  2.48               23.0        102   \n",
      "174      3    13.27        4.28  2.26               20.0        120   \n",
      "175      3    13.17        2.59  2.37               20.0        120   \n",
      "176      3    14.13        4.10  2.74               24.5         96   \n",
      "\n",
      "     total_phenols  flavanoids  nonflavanoid_phenols  proanthocyanins  \\\n",
      "0             2.65        2.76                  0.26             1.28   \n",
      "1             2.80        3.24                  0.30             2.81   \n",
      "2             3.85        3.49                  0.24             2.18   \n",
      "3             2.80        2.69                  0.39             1.82   \n",
      "4             3.27        3.39                  0.34             1.97   \n",
      "..             ...         ...                   ...              ...   \n",
      "172           1.68        0.61                  0.52             1.06   \n",
      "173           1.80        0.75                  0.43             1.41   \n",
      "174           1.59        0.69                  0.43             1.35   \n",
      "175           1.65        0.68                  0.53             1.46   \n",
      "176           2.05        0.76                  0.56             1.35   \n",
      "\n",
      "     color_intensity   hue  od280_od315  proline  \n",
      "0               4.38  1.05         3.40     1050  \n",
      "1               5.68  1.03         3.17     1185  \n",
      "2               7.80  0.86         3.45     1480  \n",
      "3               4.32  1.04         2.93      735  \n",
      "4               6.75  1.05         2.85     1450  \n",
      "..               ...   ...          ...      ...  \n",
      "172             7.70  0.64         1.74      740  \n",
      "173             7.30  0.70         1.56      750  \n",
      "174            10.20  0.59         1.56      835  \n",
      "175             9.30  0.60         1.62      840  \n",
      "176             9.20  0.61         1.60      560  \n",
      "\n",
      "[177 rows x 14 columns]\n"
     ]
    }
   ],
   "source": [
    "file_path = 'data_prediction/wine.data'\n",
    "\n",
    "df = pd.read_csv(file_path, delimiter=',')\n",
    "df.columns = [\"class\", \"alcohol\", \"malic_acid\", \"ash\", \"alcalinity_of_ash\", \"magnesium\", \"total_phenols\", \"flavanoids\", \"nonflavanoid_phenols\", \"proanthocyanins\",  \"color_intensity\", \"hue\", \"od280_od315\", \"proline\"]\n",
    "print(df)"
   ]
  },
  {
   "cell_type": "code",
   "execution_count": 36,
   "metadata": {},
   "outputs": [
    {
     "name": "stdout",
     "output_type": "stream",
     "text": [
      "(141, 13)\n",
      "(36, 13)\n",
      "(141,)\n",
      "(36,)\n"
     ]
    }
   ],
   "source": [
    "X = df.drop(columns=[\"class\"]) # feature\n",
    "y = df[\"class\"] #prediction/target\n",
    "X_train, X_test, y_train, y_test = train_test_split(X, y, random_state=11, test_size = 0.2)\n",
    "print(X_train.shape)\n",
    "print(X_test.shape)\n",
    "print(y_train.shape)\n",
    "print(y_test.shape)"
   ]
  },
  {
   "cell_type": "code",
   "execution_count": null,
   "metadata": {},
   "outputs": [
    {
     "name": "stdout",
     "output_type": "stream",
     "text": [
      "Test accuracy:  0.8333333333333334\n",
      "Train accuracy:  0.9361702127659575\n"
     ]
    }
   ],
   "source": [
    "clf = DecisionTreeClassifier(max_depth=3, random_state=40)\n",
    "# a depth of\n",
    "clf = clf.fit(X_train,y_train)\n",
    "y_pred = clf.predict(X_test)\n",
    "accuracy = accuracy_score(y_test, y_pred)\n",
    "y_train_pred = clf.predict(X_train)\n",
    "train_accuracy = accuracy_score(y_train, y_train_pred)\n",
    "\n",
    "print(\"Test accuracy: \", accuracy)\n",
    "print(\"Train accuracy: \", train_accuracy)\n"
   ]
  },
  {
   "cell_type": "markdown",
   "metadata": {},
   "source": [
    "Testing a decision tree with less features to train on:"
   ]
  },
  {
   "cell_type": "code",
   "execution_count": 49,
   "metadata": {},
   "outputs": [
    {
     "name": "stdout",
     "output_type": "stream",
     "text": [
      "(141, 7)\n",
      "(36, 7)\n",
      "(141,)\n",
      "(36,)\n"
     ]
    }
   ],
   "source": [
    "X = df.drop(columns=[\"nonflavanoid_phenols\", \"proanthocyanins\", \"class\", \"color_intensity\", \"hue\", \"od280_od315\", \"proline\"]) # feature\n",
    "y = df[\"class\"] #prediction/target\n",
    "X_train, X_test, y_train, y_test = train_test_split(X, y, random_state=11, test_size = 0.2)\n",
    "print(X_train.shape)\n",
    "print(X_test.shape)\n",
    "print(y_train.shape)\n",
    "print(y_test.shape)"
   ]
  },
  {
   "cell_type": "code",
   "execution_count": 52,
   "metadata": {},
   "outputs": [
    {
     "name": "stdout",
     "output_type": "stream",
     "text": [
      "Test accuracy:  0.9722222222222222\n",
      "Train accuracy:  0.9858156028368794\n"
     ]
    }
   ],
   "source": [
    "clf_short = DecisionTreeClassifier(max_depth=3, random_state=40)\n",
    "# a depth of\n",
    "clf_short = clf_short.fit(X_train,y_train)\n",
    "y_pred = clf_short.predict(X_test)\n",
    "accuracy = accuracy_score(y_test, y_pred)\n",
    "y_train_pred = clf_short.predict(X_train)\n",
    "train_accuracy = accuracy_score(y_train, y_train_pred)\n",
    "\n",
    "print(\"Test accuracy: \", accuracy)\n",
    "print(\"Train accuracy: \", train_accuracy)"
   ]
  },
  {
   "cell_type": "markdown",
   "metadata": {},
   "source": [
    "Random Forest"
   ]
  },
  {
   "cell_type": "code",
   "execution_count": 64,
   "metadata": {},
   "outputs": [
    {
     "name": "stdout",
     "output_type": "stream",
     "text": [
      "(123, 13)\n",
      "(54, 13)\n",
      "(123,)\n",
      "(54,)\n"
     ]
    }
   ],
   "source": [
    "X = df.drop(columns=[\"class\"]) # feature\n",
    "y = df[\"class\"] #prediction/target\n",
    "X_train, X_test, y_train, y_test = train_test_split(X, y, random_state=11, test_size = 0.3)\n",
    "print(X_train.shape)\n",
    "print(X_test.shape)\n",
    "print(y_train.shape)\n",
    "print(y_test.shape)"
   ]
  },
  {
   "cell_type": "code",
   "execution_count": 65,
   "metadata": {},
   "outputs": [
    {
     "name": "stdout",
     "output_type": "stream",
     "text": [
      "Test accuracy:  1.0\n",
      "Train accuracy:  0.9814814814814815\n"
     ]
    }
   ],
   "source": [
    "rf_clf = RandomForestClassifier(n_estimators=100, random_state=42)  # 100 trees in the forest\n",
    "rf_clf.fit(X_train, y_train)\n",
    "\n",
    "# Predict using Random Forest\n",
    "y_train_pred_rf = rf_clf.predict(X_train)\n",
    "y_test_pred_rf = rf_clf.predict(X_test)\n",
    "\n",
    "rf_train_accuracy = accuracy_score(y_train, y_train_pred_rf)\n",
    "rf_test_accuracy = accuracy_score(y_test, y_test_pred_rf)\n",
    "\n",
    "print(\"Test accuracy: \", rf_train_accuracy)\n",
    "print(\"Train accuracy: \", rf_test_accuracy)"
   ]
  }
 ],
 "metadata": {
  "kernelspec": {
   "display_name": "Python 3",
   "language": "python",
   "name": "python3"
  },
  "language_info": {
   "codemirror_mode": {
    "name": "ipython",
    "version": 3
   },
   "file_extension": ".py",
   "mimetype": "text/x-python",
   "name": "python",
   "nbconvert_exporter": "python",
   "pygments_lexer": "ipython3",
   "version": "3.11.8"
  }
 },
 "nbformat": 4,
 "nbformat_minor": 2
}
